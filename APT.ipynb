{
 "cells": [
  {
   "cell_type": "markdown",
   "metadata": {},
   "source": [
    "### Get data from gaia"
   ]
  },
  {
   "cell_type": "code",
   "execution_count": 6,
   "metadata": {},
   "outputs": [],
   "source": [
    "#imports\n",
    "from astroquery.gaia import Gaia\n",
    "import pandas as pd "
   ]
  },
  {
   "cell_type": "code",
   "execution_count": 7,
   "metadata": {},
   "outputs": [
    {
     "name": "stderr",
     "output_type": "stream",
     "text": [
      "WARNING: W35: None:5:0: W35: 'value' attribute required for INFO elements [astropy.io.votable.tree]\n",
      "WARNING: W35: None:6:0: W35: 'value' attribute required for INFO elements [astropy.io.votable.tree]\n",
      "WARNING: W35: None:7:0: W35: 'value' attribute required for INFO elements [astropy.io.votable.tree]\n",
      "WARNING: W35: None:8:0: W35: 'value' attribute required for INFO elements [astropy.io.votable.tree]\n",
      "WARNING: W35: None:10:0: W35: 'value' attribute required for INFO elements [astropy.io.votable.tree]\n",
      "WARNING: W27: None:11:0: W27: COOSYS deprecated in VOTable 1.2 [astropy.io.votable.tree]\n",
      "WARNING: W50: None:29:0: W50: Invalid unit string 'mas.yr**-1' [astropy.io.votable.tree]\n",
      "WARNING: W50: None:32:0: W50: Invalid unit string 'mas.yr**-1' [astropy.io.votable.tree]\n",
      "WARNING: W50: None:35:0: W50: Invalid unit string 'mas.yr**-1' [astropy.io.votable.tree]\n",
      "WARNING: W50: None:38:0: W50: Invalid unit string 'mas.yr**-1' [astropy.io.votable.tree]\n",
      "WARNING: W50: None:44:0: W50: Invalid unit string 'km.s**-1' [astropy.io.votable.tree]\n",
      "WARNING: W50: None:47:0: W50: Invalid unit string 'km.s**-1' [astropy.io.votable.tree]\n"
     ]
    },
    {
     "name": "stdout",
     "output_type": "stream",
     "text": [
      "Query finished.\n"
     ]
    }
   ],
   "source": [
    "#gaia query\n",
    "job = Gaia.launch_job_async(\"SELECT ALL gaia_source.source_id,gaia_source.ra,gaia_source.ra_error,gaia_source.dec,gaia_source.dec_error,gaia_source.pmra,gaia_source.pmra_error,gaia_source.pmdec,gaia_source.pmdec_error,gaia_source.phot_bp_mean_mag,gaia_source.radial_velocity,gaia_source.radial_velocity_error FROM gaiadr2.gaia_source WHERE CONTAINS(POINT('ICRS',gaiadr2.gaia_source.ra,gaiadr2.gaia_source.dec),CIRCLE('ICRS',183.721,12.785,3))=1  AND  (gaiadr2.gaia_source.phot_bp_mean_mag<=17)\")"
   ]
  },
  {
   "cell_type": "code",
   "execution_count": 8,
   "metadata": {},
   "outputs": [],
   "source": [
    "#resulting datatable\n",
    "r = job.get_results() #print(r['ra','dec'])\n",
    "dt_gaia = r.to_pandas()"
   ]
  },
  {
   "cell_type": "code",
   "execution_count": 9,
   "metadata": {},
   "outputs": [],
   "source": [
    "#read apt results\n",
    "dt_apt = pd.read_csv(\"ca2183_apt.csv\") "
   ]
  },
  {
   "cell_type": "code",
   "execution_count": null,
   "metadata": {},
   "outputs": [],
   "source": []
  }
 ],
 "metadata": {
  "kernelspec": {
   "display_name": "Python 3",
   "language": "python",
   "name": "python3"
  },
  "language_info": {
   "codemirror_mode": {
    "name": "ipython",
    "version": 3
   },
   "file_extension": ".py",
   "mimetype": "text/x-python",
   "name": "python",
   "nbconvert_exporter": "python",
   "pygments_lexer": "ipython3",
   "version": "3.6.5"
  }
 },
 "nbformat": 4,
 "nbformat_minor": 2
}
