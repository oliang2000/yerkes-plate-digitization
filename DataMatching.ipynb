{
 "cells": [
  {
   "cell_type": "markdown",
   "metadata": {},
   "source": [
    "### Imports"
   ]
  },
  {
   "cell_type": "code",
   "execution_count": 2,
   "metadata": {},
   "outputs": [],
   "source": [
    "import pandas as pd \n",
    "import seaborn as sns \n",
    "import random"
   ]
  },
  {
   "cell_type": "markdown",
   "metadata": {},
   "source": [
    "### Generate test data"
   ]
  },
  {
   "cell_type": "code",
   "execution_count": 61,
   "metadata": {},
   "outputs": [],
   "source": [
    "#This function generates test data for stars with ra, dec and magnitude for \"plate\" data and \"gaia\" data\n",
    "\n",
    "#random.seed(1)\n",
    "n = 10 #number of stars\n",
    "i = 0\n",
    "dt = [] #ideal\n",
    "dt1 = [] #plate(apt)\n",
    "dt2 = [] #\"truth\" (gaia)\n",
    "er = 0.1 #deviation from \"ideal\" data\n",
    "\n",
    "#for same number of stars\n",
    "while i < n:\n",
    "    dt.append(random.sample(range(1, 10), 3))\n",
    "    dt1.append([(dt[i][0]-round(random.uniform(-er,er), 2)), (dt[i][1]-round(random.uniform(-er,er), 2)), \\\n",
    "                (dt[i][2]-round(random.uniform(-er,er), 2))])\n",
    "    dt2.append([(dt[i][0]-round(random.uniform(-er,er), 2)), (dt[i][1]-round(random.uniform(-er,er), 2)), \\\n",
    "                (dt[i][2]-round(random.uniform(-er,er), 2))])\n",
    "    i+=1\n",
    "\n",
    "df_apt = pd.DataFrame(dt1, columns = ['CentroidRA', 'CentroidDec', 'magnitude'])\n",
    "df_gaia = pd.DataFrame(dt2, columns = ['ra', 'dec','phot_bp_mean_mag']) "
   ]
  },
  {
   "cell_type": "code",
   "execution_count": 62,
   "metadata": {
    "scrolled": false
   },
   "outputs": [
    {
     "data": {
      "text/plain": [
       "<matplotlib.axes._subplots.AxesSubplot at 0x1a1406f470>"
      ]
     },
     "execution_count": 62,
     "metadata": {},
     "output_type": "execute_result"
    },
    {
     "data": {
      "image/png": "[encoded data removed]",
      "text/plain": [
       "<Figure size 432x288 with 1 Axes>"
      ]
     },
     "metadata": {},
     "output_type": "display_data"
    }
   ],
   "source": [
    "sns.regplot('ra','dec',data=df_gaia, fit_reg = False)\n",
    "sns.regplot('CentroidRA', 'CentroidDec',data=df_apt, fit_reg = False)"
   ]
  },
  {
   "cell_type": "markdown",
   "metadata": {},
   "source": [
    "### Create new datatable with combined data"
   ]
  },
  {
   "cell_type": "code",
   "execution_count": 52,
   "metadata": {},
   "outputs": [
    {
     "ename": "IndentationError",
     "evalue": "expected an indented block (<ipython-input-52-8ca25412d239>, line 5)",
     "output_type": "error",
     "traceback": [
      "\u001b[0;36m  File \u001b[0;32m\"<ipython-input-52-8ca25412d239>\"\u001b[0;36m, line \u001b[0;32m5\u001b[0m\n\u001b[0;31m    df2.iloc[0]['ra']\u001b[0m\n\u001b[0m      ^\u001b[0m\n\u001b[0;31mIndentationError\u001b[0m\u001b[0;31m:\u001b[0m expected an indented block\n"
     ]
    }
   ],
   "source": [
    "cycnum = min(len(df1),len(df2))\n",
    "df = pd.DataFrame(columns=['ra','dec','magnitude','CentroidRA','CentroidDec','magnitude','phot_bp_mean_mag'])\n",
    "while cycnum > 0:\n",
    "    \n",
    "df2.iloc[0]['ra']"
   ]
  },
  {
   "cell_type": "code",
   "execution_count": null,
   "metadata": {},
   "outputs": [],
   "source": []
  }
 ],
 "metadata": {
  "kernelspec": {
   "display_name": "Python 3",
   "language": "python",
   "name": "python3"
  },
  "language_info": {
   "codemirror_mode": {
    "name": "ipython",
    "version": 3
   },
   "file_extension": ".py",
   "mimetype": "text/x-python",
   "name": "python",
   "nbconvert_exporter": "python",
   "pygments_lexer": "ipython3",
   "version": "3.6.5"
  }
 },
 "nbformat": 4,
 "nbformat_minor": 2
}
