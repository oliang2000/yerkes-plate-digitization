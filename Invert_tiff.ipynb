{
 "cells": [
  {
   "cell_type": "code",
   "execution_count": 2,
   "metadata": {},
   "outputs": [],
   "source": [
    "import os\n",
    "import math\n",
    "import numpy as np\n",
    "from astropy import wcs\n",
    "from astropy.io import fits\n",
    "import csv\n",
    "import sys\n",
    "from array import array\n",
    "\n",
    "hdu1 = fits.open('bookeye_small.fits')\n",
    "data = hdu1[0].data[0]\n",
    "header = hdu1[0].header\n",
    "sizex = np.int(header['NAXIS1'])\n",
    "sizey = np.int(header['NAXIS2'])\n",
    "bits  = np.int(header['BITPIX'])\n",
    "max = math.pow(2, bits)\n",
    "\n",
    "ix = 0\n",
    "jy = 0\n",
    "for jy in range(0, sizey):\n",
    "    for ix in range(0, sizex):\n",
    "        T = data[jy,ix]\n",
    "        data[jy,ix] = (max - 1) - T\n",
    "\n",
    "fits.writeto('bookeye_small_inv.fits', data, header, overwrite=True)"
   ]
  },
  {
   "cell_type": "code",
   "execution_count": null,
   "metadata": {},
   "outputs": [],
   "source": []
  }
 ],
 "metadata": {
  "kernelspec": {
   "display_name": "Python 3",
   "language": "python",
   "name": "python3"
  },
  "language_info": {
   "codemirror_mode": {
    "name": "ipython",
    "version": 3
   },
   "file_extension": ".py",
   "mimetype": "text/x-python",
   "name": "python",
   "nbconvert_exporter": "python",
   "pygments_lexer": "ipython3",
   "version": "3.6.5"
  }
 },
 "nbformat": 4,
 "nbformat_minor": 2
}
